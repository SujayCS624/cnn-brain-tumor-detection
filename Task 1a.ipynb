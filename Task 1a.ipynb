{
 "cells": [
  {
   "cell_type": "code",
   "execution_count": 1,
   "metadata": {},
   "outputs": [
    {
     "name": "stderr",
     "output_type": "stream",
     "text": [
      "Using TensorFlow backend.\n"
     ]
    }
   ],
   "source": [
    "import os\n",
    "import pandas as pd\n",
    "import re\n",
    "import cv2\n",
    "from sklearn.utils import shuffle\n",
    "import numpy as np\n",
    "import matplotlib.pyplot as plt\n",
    "import pandas as pd\n",
    "import skimage\n",
    "\n",
    "import warnings\n",
    "warnings.filterwarnings('ignore')\n",
    "\n",
    "from keras.datasets import mnist\n",
    "from keras.utils import np_utils\n",
    "from keras.models import Sequential\n",
    "from keras.layers import Conv2D, MaxPool2D, Flatten, Dense, Dropout\n",
    "from sklearn.model_selection import train_test_split\n",
    "from keras.models import load_model"
   ]
  },
  {
   "cell_type": "code",
   "execution_count": 2,
   "metadata": {},
   "outputs": [],
   "source": [
    "nums = re.compile(r'(\\d+)')\n",
    "def key(value):\n",
    "    parts = nums.split(value)\n",
    "    parts[1::2] = map(int, parts[1::2])\n",
    "    return parts"
   ]
  },
  {
   "cell_type": "code",
   "execution_count": 3,
   "metadata": {},
   "outputs": [],
   "source": [
    "trainingImages = []\n",
    "def add_images(df, directory, val):\n",
    "    for i in sorted(os.listdir(directory),key=key):\n",
    "        imgFile = directory+i\n",
    "        img = cv2.imread(imgFile)\n",
    "        img = cv2.resize(img,(64,64))\n",
    "        img = img.astype('float32')\n",
    "        img = img/255.\n",
    "        trainingImages.append(img)\n",
    "        new_row = {'image': img, 'yes/no': val}\n",
    "        df = df.append(new_row, ignore_index=True)\n",
    "    return df"
   ]
  },
  {
   "cell_type": "code",
   "execution_count": 4,
   "metadata": {},
   "outputs": [],
   "source": [
    "def sum(list):\n",
    "    s = 0\n",
    "    for val in list:\n",
    "        s += abs(val)\n",
    "    return s"
   ]
  },
  {
   "cell_type": "code",
   "execution_count": 5,
   "metadata": {},
   "outputs": [],
   "source": [
    "def accuracy(a, b):\n",
    "    s = sum(a - b)\n",
    "    acc = (len(b) - s) / len(b)\n",
    "    return acc"
   ]
  },
  {
   "cell_type": "code",
   "execution_count": 6,
   "metadata": {},
   "outputs": [],
   "source": [
    "##### generating dataframe with required stuff\n",
    "\n",
    "df = pd.DataFrame(columns = ['image', 'yes/no'])\n",
    "\n",
    "## first the yes images are added\n",
    "\n",
    "directory = \"/home/nahush/Desktop/archive/yes/\"\n",
    "df = add_images(df, directory, 1)\n",
    "\n",
    "## first the no images\n",
    "\n",
    "directory = \"/home/nahush/Desktop/archive/no/\"\n",
    "df = add_images(df, directory, 0)\n",
    "\n",
    "## shuffle the resultant dataframe\n",
    "\n",
    "df = shuffle(df)\n",
    "\n",
    "## create csv file of this dataframe\n",
    "\n",
    "df.to_csv('tumour_dataset.csv', index=False)"
   ]
  },
  {
   "cell_type": "code",
   "execution_count": 7,
   "metadata": {},
   "outputs": [],
   "source": [
    "## generating the data into x and y variables\n",
    "\n",
    "x = np.asarray(trainingImages)\n",
    "y = df['yes/no'].to_numpy() "
   ]
  },
  {
   "cell_type": "code",
   "execution_count": 8,
   "metadata": {},
   "outputs": [
    {
     "data": {
      "text/plain": [
       "((738, 64, 64, 3), (738,))"
      ]
     },
     "execution_count": 8,
     "metadata": {},
     "output_type": "execute_result"
    }
   ],
   "source": [
    "## splitting the data\n",
    "x_train, x_test, y_train, y_test = train_test_split(x, y, test_size = 0.01, random_state=42)\n",
    "\n",
    "x_train.shape, y_train.shape"
   ]
  },
  {
   "cell_type": "code",
   "execution_count": 9,
   "metadata": {},
   "outputs": [],
   "source": [
    "EPOCHS = 11\n",
    "NUM_CLASSES = 2 # (0, 1)"
   ]
  },
  {
   "cell_type": "code",
   "execution_count": 10,
   "metadata": {},
   "outputs": [
    {
     "data": {
      "text/plain": [
       "((738, 64, 64, 3), (738, 2))"
      ]
     },
     "execution_count": 10,
     "metadata": {},
     "output_type": "execute_result"
    }
   ],
   "source": [
    "# One hot encoding\n",
    "y_train = np_utils.to_categorical(y_train)\n",
    "\n",
    "x_train.shape, y_train.shape"
   ]
  },
  {
   "cell_type": "code",
   "execution_count": 11,
   "metadata": {},
   "outputs": [
    {
     "name": "stdout",
     "output_type": "stream",
     "text": [
      "WARNING:tensorflow:From /usr/local/lib/python3.5/dist-packages/keras/backend/tensorflow_backend.py:66: The name tf.get_default_graph is deprecated. Please use tf.compat.v1.get_default_graph instead.\n",
      "\n",
      "WARNING:tensorflow:From /usr/local/lib/python3.5/dist-packages/keras/backend/tensorflow_backend.py:541: The name tf.placeholder is deprecated. Please use tf.compat.v1.placeholder instead.\n",
      "\n",
      "WARNING:tensorflow:From /usr/local/lib/python3.5/dist-packages/keras/backend/tensorflow_backend.py:4432: The name tf.random_uniform is deprecated. Please use tf.random.uniform instead.\n",
      "\n",
      "WARNING:tensorflow:From /usr/local/lib/python3.5/dist-packages/keras/backend/tensorflow_backend.py:4267: The name tf.nn.max_pool is deprecated. Please use tf.nn.max_pool2d instead.\n",
      "\n",
      "WARNING:tensorflow:From /usr/local/lib/python3.5/dist-packages/keras/backend/tensorflow_backend.py:148: The name tf.placeholder_with_default is deprecated. Please use tf.compat.v1.placeholder_with_default instead.\n",
      "\n",
      "WARNING:tensorflow:From /usr/local/lib/python3.5/dist-packages/keras/backend/tensorflow_backend.py:3733: calling dropout (from tensorflow.python.ops.nn_ops) with keep_prob is deprecated and will be removed in a future version.\n",
      "Instructions for updating:\n",
      "Please use `rate` instead of `keep_prob`. Rate should be set to `rate = 1 - keep_prob`.\n",
      "WARNING:tensorflow:From /usr/local/lib/python3.5/dist-packages/keras/optimizers.py:793: The name tf.train.Optimizer is deprecated. Please use tf.compat.v1.train.Optimizer instead.\n",
      "\n",
      "WARNING:tensorflow:From /usr/local/lib/python3.5/dist-packages/keras/backend/tensorflow_backend.py:3657: The name tf.log is deprecated. Please use tf.math.log instead.\n",
      "\n",
      "WARNING:tensorflow:From /usr/local/lib/python3.5/dist-packages/tensorflow/python/ops/nn_impl.py:180: add_dispatch_support.<locals>.wrapper (from tensorflow.python.ops.array_ops) is deprecated and will be removed in a future version.\n",
      "Instructions for updating:\n",
      "Use tf.where in 2.0, which has the same broadcast rule as np.where\n"
     ]
    }
   ],
   "source": [
    "model = Sequential()\n",
    "model.add(Conv2D(32, (3, 3), input_shape=(64,64,3), activation='relu'))\n",
    "model.add(MaxPool2D(pool_size=(2, 2)))\n",
    "model.add(Dropout(0.2))\n",
    "model.add(Conv2D(64, (3, 3),activation='relu'))\n",
    "model.add(Conv2D(64, (3, 3), activation='relu'))\n",
    "model.add(MaxPool2D(pool_size=(2, 2)))\n",
    "model.add(Dropout(0.2))\n",
    "model.add(Conv2D(128, (5, 5), activation='relu'))\n",
    "model.add(MaxPool2D(pool_size=(2, 2)))\n",
    "model.add(Dropout(0.2))\n",
    "model.add(Flatten())\n",
    "model.add(Dense(256, activation='relu'))\n",
    "model.add(Dense(NUM_CLASSES, activation='softmax'))\n",
    "model.compile(loss='binary_crossentropy', optimizer='adamax', metrics=['accuracy'])"
   ]
  },
  {
   "cell_type": "code",
   "execution_count": 12,
   "metadata": {},
   "outputs": [
    {
     "name": "stdout",
     "output_type": "stream",
     "text": [
      "Model: \"sequential_1\"\n",
      "_________________________________________________________________\n",
      "Layer (type)                 Output Shape              Param #   \n",
      "=================================================================\n",
      "conv2d_1 (Conv2D)            (None, 62, 62, 32)        896       \n",
      "_________________________________________________________________\n",
      "max_pooling2d_1 (MaxPooling2 (None, 31, 31, 32)        0         \n",
      "_________________________________________________________________\n",
      "dropout_1 (Dropout)          (None, 31, 31, 32)        0         \n",
      "_________________________________________________________________\n",
      "conv2d_2 (Conv2D)            (None, 29, 29, 64)        18496     \n",
      "_________________________________________________________________\n",
      "conv2d_3 (Conv2D)            (None, 27, 27, 64)        36928     \n",
      "_________________________________________________________________\n",
      "max_pooling2d_2 (MaxPooling2 (None, 13, 13, 64)        0         \n",
      "_________________________________________________________________\n",
      "dropout_2 (Dropout)          (None, 13, 13, 64)        0         \n",
      "_________________________________________________________________\n",
      "conv2d_4 (Conv2D)            (None, 9, 9, 128)         204928    \n",
      "_________________________________________________________________\n",
      "max_pooling2d_3 (MaxPooling2 (None, 4, 4, 128)         0         \n",
      "_________________________________________________________________\n",
      "dropout_3 (Dropout)          (None, 4, 4, 128)         0         \n",
      "_________________________________________________________________\n",
      "flatten_1 (Flatten)          (None, 2048)              0         \n",
      "_________________________________________________________________\n",
      "dense_1 (Dense)              (None, 256)               524544    \n",
      "_________________________________________________________________\n",
      "dense_2 (Dense)              (None, 2)                 514       \n",
      "=================================================================\n",
      "Total params: 786,306\n",
      "Trainable params: 786,306\n",
      "Non-trainable params: 0\n",
      "_________________________________________________________________\n"
     ]
    }
   ],
   "source": [
    "model.summary()"
   ]
  },
  {
   "cell_type": "code",
   "execution_count": 13,
   "metadata": {},
   "outputs": [
    {
     "name": "stdout",
     "output_type": "stream",
     "text": [
      "Train on 664 samples, validate on 74 samples\n",
      "Epoch 1/11\n",
      "664/664 [==============================] - 3s 4ms/step - loss: 0.7077 - acc: 0.6114 - val_loss: 0.6635 - val_acc: 0.6622\n",
      "Epoch 2/11\n",
      "664/664 [==============================] - 2s 3ms/step - loss: 0.6710 - acc: 0.6160 - val_loss: 0.6644 - val_acc: 0.6622\n",
      "Epoch 3/11\n",
      "664/664 [==============================] - 2s 3ms/step - loss: 0.6713 - acc: 0.6160 - val_loss: 0.6572 - val_acc: 0.6622\n",
      "Epoch 4/11\n",
      "664/664 [==============================] - 2s 3ms/step - loss: 0.6640 - acc: 0.6160 - val_loss: 0.6462 - val_acc: 0.6622\n",
      "Epoch 5/11\n",
      "664/664 [==============================] - 2s 3ms/step - loss: 0.6634 - acc: 0.6160 - val_loss: 0.6661 - val_acc: 0.6622\n",
      "Epoch 6/11\n",
      "664/664 [==============================] - 2s 3ms/step - loss: 0.6699 - acc: 0.6160 - val_loss: 0.6568 - val_acc: 0.6622\n",
      "Epoch 7/11\n",
      "664/664 [==============================] - 2s 3ms/step - loss: 0.6662 - acc: 0.6160 - val_loss: 0.6465 - val_acc: 0.6622\n",
      "Epoch 8/11\n",
      "664/664 [==============================] - 2s 3ms/step - loss: 0.6615 - acc: 0.6160 - val_loss: 0.6474 - val_acc: 0.6622\n",
      "Epoch 9/11\n",
      "664/664 [==============================] - 2s 3ms/step - loss: 0.6599 - acc: 0.6160 - val_loss: 0.6444 - val_acc: 0.6622\n",
      "Epoch 10/11\n",
      "664/664 [==============================] - 2s 4ms/step - loss: 0.6609 - acc: 0.6160 - val_loss: 0.6424 - val_acc: 0.6622\n",
      "Epoch 11/11\n",
      "664/664 [==============================] - 2s 3ms/step - loss: 0.6656 - acc: 0.6160 - val_loss: 0.6454 - val_acc: 0.6622\n"
     ]
    },
    {
     "data": {
      "text/plain": [
       "<keras.callbacks.History at 0x7faceb84e3c8>"
      ]
     },
     "execution_count": 13,
     "metadata": {},
     "output_type": "execute_result"
    }
   ],
   "source": [
    "model.fit(x_train, y_train, validation_split = 0.1, validation_data = None, shuffle = True, epochs = EPOCHS, batch_size = 40)"
   ]
  },
  {
   "cell_type": "code",
   "execution_count": 14,
   "metadata": {},
   "outputs": [
    {
     "name": "stdout",
     "output_type": "stream",
     "text": [
      "Train on 664 samples, validate on 74 samples\n",
      "Epoch 1/15\n",
      "664/664 [==============================] - 2s 3ms/step - loss: 0.6599 - acc: 0.6160 - val_loss: 0.6431 - val_acc: 0.6622\n",
      "Epoch 2/15\n",
      "664/664 [==============================] - 2s 3ms/step - loss: 0.6604 - acc: 0.6160 - val_loss: 0.6417 - val_acc: 0.6622\n",
      "Epoch 3/15\n",
      "664/664 [==============================] - 2s 3ms/step - loss: 0.6580 - acc: 0.6160 - val_loss: 0.6418 - val_acc: 0.6622\n",
      "Epoch 4/15\n",
      "664/664 [==============================] - 2s 3ms/step - loss: 0.6551 - acc: 0.6160 - val_loss: 0.6475 - val_acc: 0.6622\n",
      "Epoch 5/15\n",
      "664/664 [==============================] - 2s 3ms/step - loss: 0.6536 - acc: 0.6160 - val_loss: 0.6365 - val_acc: 0.6622\n",
      "Epoch 6/15\n",
      "664/664 [==============================] - 2s 3ms/step - loss: 0.6517 - acc: 0.6160 - val_loss: 0.6405 - val_acc: 0.6622\n",
      "Epoch 7/15\n",
      "664/664 [==============================] - 2s 3ms/step - loss: 0.6497 - acc: 0.6235 - val_loss: 0.6414 - val_acc: 0.6622\n",
      "Epoch 8/15\n",
      "664/664 [==============================] - 2s 3ms/step - loss: 0.6475 - acc: 0.6130 - val_loss: 0.6459 - val_acc: 0.6757\n",
      "Epoch 9/15\n",
      "664/664 [==============================] - 2s 3ms/step - loss: 0.6470 - acc: 0.6265 - val_loss: 0.6476 - val_acc: 0.6622\n",
      "Epoch 10/15\n",
      "664/664 [==============================] - 2s 3ms/step - loss: 0.6418 - acc: 0.6325 - val_loss: 0.6415 - val_acc: 0.6622\n",
      "Epoch 11/15\n",
      "664/664 [==============================] - 2s 3ms/step - loss: 0.6466 - acc: 0.6280 - val_loss: 0.6398 - val_acc: 0.6486\n",
      "Epoch 12/15\n",
      "664/664 [==============================] - 2s 3ms/step - loss: 0.6382 - acc: 0.6190 - val_loss: 0.6398 - val_acc: 0.6757\n",
      "Epoch 13/15\n",
      "664/664 [==============================] - 2s 3ms/step - loss: 0.6348 - acc: 0.6265 - val_loss: 0.6408 - val_acc: 0.6757\n",
      "Epoch 14/15\n",
      "664/664 [==============================] - 2s 3ms/step - loss: 0.6265 - acc: 0.6355 - val_loss: 0.6464 - val_acc: 0.6757\n",
      "Epoch 15/15\n",
      "664/664 [==============================] - 2s 3ms/step - loss: 0.6366 - acc: 0.6355 - val_loss: 0.6523 - val_acc: 0.6757\n"
     ]
    },
    {
     "data": {
      "text/plain": [
       "<keras.callbacks.History at 0x7faceb84eb38>"
      ]
     },
     "execution_count": 14,
     "metadata": {},
     "output_type": "execute_result"
    }
   ],
   "source": [
    "model.fit(x_train, y_train, validation_split = 0.1, validation_data = None, shuffle = True, epochs = 15 , batch_size = 40)"
   ]
  },
  {
   "cell_type": "code",
   "execution_count": null,
   "metadata": {},
   "outputs": [],
   "source": [
    "model.save('Task_binary_classification_without_transfer_learning.h5')"
   ]
  },
  {
   "cell_type": "code",
   "execution_count": null,
   "metadata": {},
   "outputs": [],
   "source": []
  }
 ],
 "metadata": {
  "kernelspec": {
   "display_name": "Python 3",
   "language": "python",
   "name": "python3"
  },
  "language_info": {
   "codemirror_mode": {
    "name": "ipython",
    "version": 3
   },
   "file_extension": ".py",
   "mimetype": "text/x-python",
   "name": "python",
   "nbconvert_exporter": "python",
   "pygments_lexer": "ipython3",
   "version": "3.5.2"
  }
 },
 "nbformat": 4,
 "nbformat_minor": 2
}
